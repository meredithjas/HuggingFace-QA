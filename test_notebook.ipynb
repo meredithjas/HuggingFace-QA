{
 "cells": [
  {
   "cell_type": "code",
   "execution_count": 1,
   "id": "2a7f9212-d879-417c-8718-c43cb73c7463",
   "metadata": {},
   "outputs": [],
   "source": [
    "import json\n",
    "\n",
    "with open(\"train-v2.0.json\", 'r') as f:\n",
    "  data = json.load(f)"
   ]
  },
  {
   "cell_type": "code",
   "execution_count": 2,
   "id": "cd64f294-28f5-47a2-bc13-eede991e1d45",
   "metadata": {},
   "outputs": [
    {
     "name": "stdout",
     "output_type": "stream",
     "text": [
      "Number of available questions: 357\n"
     ]
    }
   ],
   "source": [
    "# get the available questions and answers for a given topic\n",
    "def get_qa(topic, data):\n",
    "    q = []\n",
    "    a = []\n",
    "    for d in data['data']:\n",
    "        if d['title']==topic:\n",
    "            for paragraph in d['paragraphs']:\n",
    "                for qa in paragraph['qas']:\n",
    "                    if not qa['is_impossible']:\n",
    "                        q.append(qa['question'])\n",
    "                        a.append(qa['answers'][0]['text'])\n",
    "            return q,a\n",
    "\n",
    "questions, answers = get_qa(topic='Premier_League', data=data)\n",
    "\n",
    "print(\"Number of available questions: {}\".format(len(questions)))"
   ]
  },
  {
   "cell_type": "code",
   "execution_count": 3,
   "id": "27cdc109-b83b-4001-a27a-bebf92e9f49a",
   "metadata": {},
   "outputs": [
    {
     "name": "stdout",
     "output_type": "stream",
     "text": [
      "Requirement already satisfied: transformers in /Users/mer/Desktop/myenv/lib/python3.8/site-packages (4.15.0)\n",
      "Requirement already satisfied: regex!=2019.12.17 in /Users/mer/Desktop/myenv/lib/python3.8/site-packages (from transformers) (2022.9.13)\n",
      "Requirement already satisfied: tqdm>=4.27 in /Users/mer/Desktop/myenv/lib/python3.8/site-packages (from transformers) (4.64.1)\n",
      "Requirement already satisfied: sacremoses in /Users/mer/Desktop/myenv/lib/python3.8/site-packages (from transformers) (0.0.53)\n",
      "Requirement already satisfied: numpy>=1.17 in /Users/mer/Desktop/myenv/lib/python3.8/site-packages (from transformers) (1.23.3)\n",
      "Requirement already satisfied: huggingface-hub<1.0,>=0.1.0 in /Users/mer/Desktop/myenv/lib/python3.8/site-packages (from transformers) (0.10.0)\n",
      "Requirement already satisfied: filelock in /Users/mer/Desktop/myenv/lib/python3.8/site-packages (from transformers) (3.8.0)\n",
      "Requirement already satisfied: packaging>=20.0 in /Users/mer/Desktop/myenv/lib/python3.8/site-packages (from transformers) (21.3)\n",
      "Requirement already satisfied: tokenizers<0.11,>=0.10.1 in /Users/mer/Desktop/myenv/lib/python3.8/site-packages (from transformers) (0.10.3)\n",
      "Requirement already satisfied: requests in /Users/mer/Desktop/myenv/lib/python3.8/site-packages (from transformers) (2.28.1)\n",
      "Requirement already satisfied: pyyaml>=5.1 in /Users/mer/Desktop/myenv/lib/python3.8/site-packages (from transformers) (6.0)\n",
      "Requirement already satisfied: typing-extensions>=3.7.4.3 in /Users/mer/Desktop/myenv/lib/python3.8/site-packages (from huggingface-hub<1.0,>=0.1.0->transformers) (4.3.0)\n",
      "Requirement already satisfied: pyparsing!=3.0.5,>=2.0.2 in /Users/mer/Desktop/myenv/lib/python3.8/site-packages (from packaging>=20.0->transformers) (3.0.9)\n",
      "Requirement already satisfied: charset-normalizer<3,>=2 in /Users/mer/Desktop/myenv/lib/python3.8/site-packages (from requests->transformers) (2.1.1)\n",
      "Requirement already satisfied: idna<4,>=2.5 in /Users/mer/Desktop/myenv/lib/python3.8/site-packages (from requests->transformers) (3.4)\n",
      "Requirement already satisfied: urllib3<1.27,>=1.21.1 in /Users/mer/Desktop/myenv/lib/python3.8/site-packages (from requests->transformers) (1.26.12)\n",
      "Requirement already satisfied: certifi>=2017.4.17 in /Users/mer/Desktop/myenv/lib/python3.8/site-packages (from requests->transformers) (2022.9.24)\n",
      "Requirement already satisfied: click in /Users/mer/Desktop/myenv/lib/python3.8/site-packages (from sacremoses->transformers) (8.1.3)\n",
      "Requirement already satisfied: joblib in /Users/mer/Desktop/myenv/lib/python3.8/site-packages (from sacremoses->transformers) (1.2.0)\n",
      "Requirement already satisfied: six in /Users/mer/Desktop/myenv/lib/python3.8/site-packages (from sacremoses->transformers) (1.16.0)\n",
      "\n",
      "\u001b[1m[\u001b[0m\u001b[34;49mnotice\u001b[0m\u001b[1;39;49m]\u001b[0m\u001b[39;49m A new release of pip available: \u001b[0m\u001b[31;49m22.2.2\u001b[0m\u001b[39;49m -> \u001b[0m\u001b[32;49m22.3\u001b[0m\n",
      "\u001b[1m[\u001b[0m\u001b[34;49mnotice\u001b[0m\u001b[1;39;49m]\u001b[0m\u001b[39;49m To update, run: \u001b[0m\u001b[32;49mpip install --upgrade pip\u001b[0m\n",
      "Requirement already satisfied: torch in /Users/mer/Desktop/myenv/lib/python3.8/site-packages (1.10.1)\n",
      "Requirement already satisfied: typing-extensions in /Users/mer/Desktop/myenv/lib/python3.8/site-packages (from torch) (4.3.0)\n",
      "\n",
      "\u001b[1m[\u001b[0m\u001b[34;49mnotice\u001b[0m\u001b[1;39;49m]\u001b[0m\u001b[39;49m A new release of pip available: \u001b[0m\u001b[31;49m22.2.2\u001b[0m\u001b[39;49m -> \u001b[0m\u001b[32;49m22.3\u001b[0m\n",
      "\u001b[1m[\u001b[0m\u001b[34;49mnotice\u001b[0m\u001b[1;39;49m]\u001b[0m\u001b[39;49m To update, run: \u001b[0m\u001b[32;49mpip install --upgrade pip\u001b[0m\n"
     ]
    }
   ],
   "source": [
    "!pip install transformers\n",
    "!pip install torch"
   ]
  },
  {
   "cell_type": "code",
   "execution_count": null,
   "id": "8b27bd9b-0513-41e4-9e11-05848e1a417a",
   "metadata": {},
   "outputs": [],
   "source": [
    "!pip install ipywidgets\n",
    "!jupyter nbextension enable --py widgetsnbextension"
   ]
  },
  {
   "cell_type": "code",
   "execution_count": null,
   "id": "afd6fe3e-4e2e-4e94-b01d-0f14ecdfc7c2",
   "metadata": {},
   "outputs": [],
   "source": [
    "from ipywidgets import FloatProgress"
   ]
  },
  {
   "cell_type": "code",
   "execution_count": 4,
   "id": "ea1bb7dc-ed2c-4122-95b0-641e0edde2e2",
   "metadata": {},
   "outputs": [],
   "source": [
    "from transformers import AutoTokenizer, AutoModel\n",
    "import torch\n",
    "def get_model(model_name):\n",
    "    model = AutoModel.from_pretrained(model_name)\n",
    "    tokenizer = AutoTokenizer.from_pretrained(model_name)\n",
    "    return model, tokenizer\n",
    "  \n",
    "model, tokenizer = get_model(model_name=\"paraphrase-MiniLM-L6-v2\")"
   ]
  },
  {
   "cell_type": "code",
   "execution_count": 5,
   "id": "f553027f-303e-40ff-b3e3-e36a16ebd132",
   "metadata": {},
   "outputs": [
    {
     "name": "stdout",
     "output_type": "stream",
     "text": [
      "Embeddings shape: torch.Size([3, 384])\n"
     ]
    }
   ],
   "source": [
    "# Mean Pooling - Take attention mask into account for correct averaging\n",
    "# source: https://huggingface.co/sentence-transformers/paraphrase-MiniLM-L6-v2\n",
    "def mean_pooling(model_output, attention_mask):\n",
    "    token_embeddings = model_output[0]\n",
    "    \n",
    "    input_mask_expanded = (\n",
    "      attention_mask\n",
    "      .unsqueeze(-1)\n",
    "      .expand(token_embeddings.size())\n",
    "      .float()\n",
    "    )\n",
    "    \n",
    "    pool_emb = (\n",
    "      torch.sum(token_embeddings * input_mask_expanded, 1) \n",
    "      / torch.clamp(input_mask_expanded.sum(1), min=1e-9)\n",
    "    )\n",
    "    \n",
    "    return pool_emb\n",
    "\n",
    "def get_embeddings(questions, tokenizer, model):\n",
    "  # Tokenize sentences\n",
    "  encoded_input = tokenizer(questions, padding=True, truncation=True, return_tensors='pt')\n",
    "\n",
    "  # Compute token embeddings\n",
    "  with torch.no_grad():\n",
    "      model_output = model(**encoded_input)\n",
    "\n",
    "  # Average pooling\n",
    "  embeddings = mean_pooling(model_output, encoded_input['attention_mask']) \n",
    "  \n",
    "  return embeddings\n",
    "\n",
    "embeddings = get_embeddings(questions[:3], tokenizer, model)\n",
    "print(\"Embeddings shape: {}\".format(embeddings.shape))"
   ]
  },
  {
   "cell_type": "code",
   "execution_count": 9,
   "id": "f91159e3-af03-4f3c-8c93-7306c21843df",
   "metadata": {},
   "outputs": [
    {
     "data": {
      "text/plain": [
       "tensor([73.8291, 54.7921,  7.5154])"
      ]
     },
     "execution_count": 9,
     "metadata": {},
     "output_type": "execute_result"
    }
   ],
   "source": [
    "new_question = 'Which days have most games?'\n",
    "new_embedding = get_embeddings([new_question], tokenizer, model)\n",
    "\n",
    "# squared Euclidean distance between sample questions and new_question\n",
    "((embeddings - new_embedding)**2).sum(axis=1)"
   ]
  },
  {
   "cell_type": "code",
   "execution_count": 8,
   "id": "8257e532-70bf-48c8-a3af-7bf5b6426d94",
   "metadata": {},
   "outputs": [
    {
     "data": {
      "text/plain": [
       "torch.Size([1, 384])"
      ]
     },
     "execution_count": 8,
     "metadata": {},
     "output_type": "execute_result"
    }
   ],
   "source": [
    "new_embedding.shape"
   ]
  },
  {
   "cell_type": "code",
   "execution_count": null,
   "id": "6b02f86b-706e-4bff-8704-7e753fcbb4d7",
   "metadata": {},
   "outputs": [],
   "source": []
  },
  {
   "cell_type": "code",
   "execution_count": null,
   "id": "d8a0cfe2-5f8a-4462-aad4-e69d744cc1ba",
   "metadata": {},
   "outputs": [],
   "source": []
  }
 ],
 "metadata": {
  "kernelspec": {
   "display_name": "Python 3 (ipykernel)",
   "language": "python",
   "name": "python3"
  },
  "language_info": {
   "codemirror_mode": {
    "name": "ipython",
    "version": 3
   },
   "file_extension": ".py",
   "mimetype": "text/x-python",
   "name": "python",
   "nbconvert_exporter": "python",
   "pygments_lexer": "ipython3",
   "version": "3.8.2"
  }
 },
 "nbformat": 4,
 "nbformat_minor": 5
}
